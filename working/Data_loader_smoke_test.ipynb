{
 "cells": [
  {
   "cell_type": "code",
   "execution_count": 1,
   "metadata": {},
   "outputs": [],
   "source": [
    "import sys\n",
    "sys.path.append(\"/home/ubuntu/rharang-collector/tmp/tacotron2/\")\n",
    "import layers\n",
    "import numpy as np\n",
    "\n",
    "from data_loading import *"
   ]
  },
  {
   "cell_type": "code",
   "execution_count": 2,
   "metadata": {},
   "outputs": [],
   "source": [
    "tt = layers.TacotronSTFT(n_mel_channels=40, filter_length=512, win_length=512, hop_length=256)\n",
    "ds = SpeakerDataset(\"/home/ubuntu/rharang-collector/tmp/data_index.csv\", \"/home/ubuntu/rharang-collector/tmp/\", lambda x:tt.mel_spectrogram(x))\n"
   ]
  },
  {
   "cell_type": "code",
   "execution_count": 3,
   "metadata": {},
   "outputs": [
    {
     "data": {
      "text/plain": [
       "(tensor([[ -2.8927,  -3.1376,  -2.5422,  ...,  -8.1652,  -8.2433,\n",
       "           -8.2907],\n",
       "         [ -3.1273,  -2.6880,  -3.1417,  ..., -11.5129, -11.5129,\n",
       "          -11.5129],\n",
       "         [ -3.1422,  -2.7084,  -3.1567,  ..., -11.5129, -11.5129,\n",
       "          -11.5129],\n",
       "         ...,\n",
       "         [ -5.9106,  -6.3357,  -7.1481,  ..., -11.5129, -11.5129,\n",
       "          -11.5129],\n",
       "         [ -3.9471,  -3.5376,  -4.0810,  ..., -11.5129, -11.5129,\n",
       "          -11.5129],\n",
       "         [ -3.5772,  -2.7914,  -2.4793,  ...,  -9.1442,  -9.2142,\n",
       "           -9.2599]]), 0, 2)"
      ]
     },
     "execution_count": 3,
     "metadata": {},
     "output_type": "execute_result"
    }
   ],
   "source": [
    "ds[0]"
   ]
  },
  {
   "cell_type": "code",
   "execution_count": 4,
   "metadata": {},
   "outputs": [],
   "source": [
    "from torch.utils.data import DataLoader\n",
    "samples_per_speaker = 2\n",
    "speakers_per_batch = 3\n",
    "bob = DataLoader(ds, batch_size=samples_per_speaker*speakers_per_batch, \n",
    "                 sampler=BalancedSpeakerSampler(ds.speaker_idlist, samples_per_speaker, speakers_per_batch, 5))"
   ]
  },
  {
   "cell_type": "code",
   "execution_count": 5,
   "metadata": {},
   "outputs": [
    {
     "name": "stdout",
     "output_type": "stream",
     "text": [
      "<class 'torch.Tensor'> <class 'torch.Tensor'> <class 'torch.Tensor'>\n",
      "torch.Size([6, 65, 40])\n"
     ]
    }
   ],
   "source": [
    "import time\n",
    "tl = [time.time()]\n",
    "for i in bob:\n",
    "    tl.append(time.time())\n",
    "\n",
    "print(type(i[0]),type(i[1]),type(i[2]))\n",
    "print(i[0].shape)"
   ]
  },
  {
   "cell_type": "code",
   "execution_count": 6,
   "metadata": {},
   "outputs": [
    {
     "data": {
      "text/plain": [
       "array([1.81771898, 1.53392577, 1.55334258, 1.96106172, 1.55866933])"
      ]
     },
     "execution_count": 6,
     "metadata": {},
     "output_type": "execute_result"
    }
   ],
   "source": [
    "np.diff(tl)"
   ]
  },
  {
   "cell_type": "code",
   "execution_count": null,
   "metadata": {},
   "outputs": [],
   "source": []
  }
 ],
 "metadata": {
  "kernelspec": {
   "display_name": "Environment (conda_tacotron)",
   "language": "python",
   "name": "conda_tacotron"
  },
  "language_info": {
   "codemirror_mode": {
    "name": "ipython",
    "version": 3
   },
   "file_extension": ".py",
   "mimetype": "text/x-python",
   "name": "python",
   "nbconvert_exporter": "python",
   "pygments_lexer": "ipython3",
   "version": "3.6.6"
  }
 },
 "nbformat": 4,
 "nbformat_minor": 2
}
